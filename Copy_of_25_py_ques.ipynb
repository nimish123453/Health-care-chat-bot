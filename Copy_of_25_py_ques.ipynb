{
  "cells": [
    {
      "cell_type": "markdown",
      "metadata": {
        "id": "view-in-github",
        "colab_type": "text"
      },
      "source": [
        "<a href=\"https://colab.research.google.com/github/nimish123453/Health-care-chat-bot-website/blob/main/Copy_of_25_py_ques.ipynb\" target=\"_parent\"><img src=\"https://colab.research.google.com/assets/colab-badge.svg\" alt=\"Open In Colab\"/></a>"
      ]
    },
    {
      "cell_type": "code",
      "execution_count": null,
      "metadata": {
        "id": "VVdh6R_zSY9r"
      },
      "outputs": [],
      "source": [
        "import re\n",
        "import random\n"
      ]
    },
    {
      "cell_type": "code",
      "execution_count": null,
      "metadata": {
        "colab": {
          "base_uri": "https://localhost:8080/"
        },
        "id": "qYmnUCLGS86-",
        "outputId": "96b97f31-1bcb-4224-b6fb-0c8c0bccab7a"
      },
      "outputs": [
        {
          "name": "stdout",
          "output_type": "stream",
          "text": [
            "enter 1st number2\n",
            "enter 2nd number9\n",
            "even no is 8\n"
          ]
        }
      ],
      "source": [
        "#Between the two numbers inclusive, kids were asked to take as many choclates as the largest even number of all. So, write a Python program for Alexa to take the required number of choclates.\n",
        "num1=int(input(\"enter 1st number\"))\n",
        "num2=int(input(\"enter 2nd number\"))\n",
        "list=[]\n",
        "for i in range(num1,num2):\n",
        "  if num2%2==0:\n",
        "   print(f'{num2}is even')\n",
        "   break\n",
        "  elif i%2==0 :\n",
        "    list.append(i)\n",
        "    last=list[-1]\n",
        "print('even no is',last)\n",
        "#file if curropted paste somewhere else and run the program\n"
      ]
    },
    {
      "cell_type": "code",
      "execution_count": null,
      "metadata": {
        "colab": {
          "base_uri": "https://localhost:8080/"
        },
        "id": "N_-YJCBQkPYA",
        "outputId": "0acb3554-f1bb-40a1-9320-8388fc25baed"
      },
      "outputs": [
        {
          "name": "stdout",
          "output_type": "stream",
          "text": [
            "number24\n",
            "8\n"
          ]
        }
      ],
      "source": [
        "#In a competition, participants were given a number to sum its digits until it was a single-digit number.\n",
        "#So, write a Python program to add the digits of a positive integer repeatedly until the result has a single digit.\n",
        "\n",
        "num=str(input(\"number\"))\n",
        "list=[]\n",
        "ele=0\n",
        "for i in num:\n",
        "  int(i)\n",
        "  list.append(i)\n",
        "for j in list:\n",
        "  if i in list:\n",
        "    ele+=int(i)\n",
        "\n",
        "print(ele)"
      ]
    },
    {
      "cell_type": "code",
      "execution_count": null,
      "metadata": {
        "colab": {
          "base_uri": "https://localhost:8080/",
          "height": 252
        },
        "id": "ZAKOoQMoNww8",
        "outputId": "1729d88b-9a6f-48c5-daf2-ad19e6b595dc"
      },
      "outputs": [
        {
          "name": "stdout",
          "output_type": "stream",
          "text": [
            "number8\n"
          ]
        },
        {
          "ename": "TypeError",
          "evalue": "ignored",
          "output_type": "error",
          "traceback": [
            "\u001b[0;31m---------------------------------------------------------------------------\u001b[0m",
            "\u001b[0;31mTypeError\u001b[0m                                 Traceback (most recent call last)",
            "\u001b[0;32m<ipython-input-3-5644954af1e5>\u001b[0m in \u001b[0;36m<cell line: 12>\u001b[0;34m()\u001b[0m\n\u001b[1;32m     10\u001b[0m   \u001b[0;32mif\u001b[0m \u001b[0mele\u001b[0m\u001b[0;34m<\u001b[0m\u001b[0;36m9\u001b[0m\u001b[0;34m:\u001b[0m\u001b[0;34m\u001b[0m\u001b[0;34m\u001b[0m\u001b[0m\n\u001b[1;32m     11\u001b[0m     \u001b[0mele\u001b[0m\u001b[0;34m+=\u001b[0m\u001b[0mint\u001b[0m\u001b[0;34m(\u001b[0m\u001b[0mj\u001b[0m\u001b[0;34m)\u001b[0m\u001b[0;34m\u001b[0m\u001b[0;34m\u001b[0m\u001b[0m\n\u001b[0;32m---> 12\u001b[0;31m \u001b[0;32mfor\u001b[0m \u001b[0mi\u001b[0m \u001b[0;32min\u001b[0m \u001b[0mele\u001b[0m\u001b[0;34m:\u001b[0m\u001b[0;34m\u001b[0m\u001b[0;34m\u001b[0m\u001b[0m\n\u001b[0m\u001b[1;32m     13\u001b[0m   \u001b[0mint\u001b[0m\u001b[0;34m(\u001b[0m\u001b[0mi\u001b[0m\u001b[0;34m)\u001b[0m\u001b[0;34m\u001b[0m\u001b[0;34m\u001b[0m\u001b[0m\n\u001b[1;32m     14\u001b[0m   \u001b[0;32mif\u001b[0m \u001b[0mele\u001b[0m\u001b[0;34m>\u001b[0m\u001b[0;36m9\u001b[0m\u001b[0;34m:\u001b[0m\u001b[0;34m\u001b[0m\u001b[0;34m\u001b[0m\u001b[0m\n",
            "\u001b[0;31mTypeError\u001b[0m: 'int' object is not iterable"
          ]
        }
      ],
      "source": [
        "num=str(input(\"number\"))\n",
        "list=[]\n",
        "list2=[]\n",
        "ele=0\n",
        "ele2=0\n",
        "for i in num:\n",
        "  int(i)\n",
        "  list.append(i)\n",
        "for j in list:\n",
        "  if ele<9:\n",
        "    ele+=int(j)\n",
        "for i in ele:\n",
        "  int(i)\n",
        "  if ele>9:\n",
        "\n",
        "    list2.append(i)\n",
        "for j in list:\n",
        "  if ele>9:\n",
        "    ele2+=int(j)\n",
        "    print(ele2)\n",
        "print(ele)"
      ]
    },
    {
      "cell_type": "code",
      "execution_count": null,
      "metadata": {
        "colab": {
          "base_uri": "https://localhost:8080/"
        },
        "id": "oGP252TYcBJu",
        "outputId": "12ff93bd-1ffe-442f-bdee-d92b12dca2bc"
      },
      "outputs": [
        {
          "name": "stdout",
          "output_type": "stream",
          "text": [
            "9 is a prime number\n",
            "9 is not a prime number\n",
            "9 is a prime number\n",
            "9 is a prime number\n",
            "9 is a prime number\n",
            "9 is a prime number\n",
            "9 is a prime number\n"
          ]
        }
      ],
      "source": [
        "#In a test, students are supposed to write all the words in a passage whose length is a prime number.\n",
        "#So, write a Python program to find all such words in a sentence/passage.\n",
        "string ='my bame is nimish sri vas tava ghi e'\n",
        "list=[]\n",
        "for i in string.split():\n",
        "  list.append(i)\n",
        "num=len(list)\n",
        "\n",
        "\n",
        "if num == 1:\n",
        "    print(num, \"is not a prime number\")\n",
        "elif num > 1:\n",
        "  for i in range(2, num):\n",
        "    if (num % i) == 0:\n",
        "      print(num, \"is not a prime number\")\n",
        "    else:\n",
        "     print(num, \"is a prime number\")"
      ]
    },
    {
      "cell_type": "code",
      "execution_count": null,
      "metadata": {
        "colab": {
          "base_uri": "https://localhost:8080/"
        },
        "id": "Ckd1x6lR5tDL",
        "outputId": "2a423083-35dc-438c-86a2-3391190fbb29"
      },
      "outputs": [
        {
          "name": "stdout",
          "output_type": "stream",
          "text": [
            "904.3199999999999\n"
          ]
        }
      ],
      "source": [
        "#Write a Python program to get the volume of a sphere with radius 6\n",
        "rad=6\n",
        "pi=3.14\n",
        "vol=(4/3)*pi*(rad**3)\n",
        "print(vol)"
      ]
    },
    {
      "cell_type": "code",
      "execution_count": null,
      "metadata": {
        "colab": {
          "base_uri": "https://localhost:8080/"
        },
        "id": "SUS7EMDv7g-H",
        "outputId": "390b301a-d616-4cb1-86ed-ab728d2e1435"
      },
      "outputs": [
        {
          "name": "stdout",
          "output_type": "stream",
          "text": [
            "1st method 49\n",
            "2nd method 49\n"
          ]
        }
      ],
      "source": [
        "#Write a Python program to solve (x + y) * (x + y).\n",
        "\n",
        "#Test Data : x = 4, y = 3\n",
        "\n",
        "#Expected Output : (4 + 3) ^ 2) = 49\"\"\"\n",
        "\n",
        "x=4\n",
        "y=3\n",
        "ans=(x+y)**2\n",
        "ans2=(x+y)*(x+y)\n",
        "print('1st method',ans)\n",
        "print('2nd method',ans2)\n"
      ]
    },
    {
      "cell_type": "code",
      "execution_count": null,
      "metadata": {
        "colab": {
          "base_uri": "https://localhost:8080/"
        },
        "id": "dMkbbiy-8lR8",
        "outputId": "1cc9b511-e945-4f88-e095-c9f91d89788b"
      },
      "outputs": [
        {
          "name": "stdout",
          "output_type": "stream",
          "text": [
            "114\n"
          ]
        }
      ],
      "source": [
        "#Neha is assigned a task to calculate the total amount at the end of the day.\n",
        "#Provided with a list, write a Python program for neha to sum all the elements in the list.\"\"\"\n",
        "list=['12','23','34','45']\n",
        "ele=0\n",
        "for i in list:\n",
        "  ele=ele+int(i)\n",
        "print(ele)\n"
      ]
    },
    {
      "cell_type": "code",
      "execution_count": null,
      "metadata": {
        "colab": {
          "base_uri": "https://localhost:8080/"
        },
        "id": "51KJqP8r-WQv",
        "outputId": "0eacb7e8-ebbb-4b9c-bce8-ae639f44f606"
      },
      "outputs": [
        {
          "name": "stdout",
          "output_type": "stream",
          "text": [
            "422280\n"
          ]
        }
      ],
      "source": [
        "#Alex is solving algebra equations and now wants to multiply each root value.\n",
        "#Thus, write a Python program to multiply all the items in a list.\"\"\"\n",
        "list=['12','23','34','45']\n",
        "ele=1\n",
        "for i in list:\n",
        "  ele=ele*int(i)\n",
        "print(ele)\n"
      ]
    },
    {
      "cell_type": "code",
      "execution_count": null,
      "metadata": {
        "colab": {
          "base_uri": "https://localhost:8080/"
        },
        "id": "vhZDgdjdEPwl",
        "outputId": "5bc7be9b-9b56-42eb-c80d-5bfb261dab19"
      },
      "outputs": [
        {
          "name": "stdout",
          "output_type": "stream",
          "text": [
            "6\n"
          ]
        }
      ],
      "source": [
        "#Write a Python program to calculate the length of a string.\n",
        "string=\"write some thing dkkk dghfh jtr \"\n",
        "list=[]\n",
        "count=0\n",
        "for i in string.split():\n",
        "  list.append(i)\n",
        "for j in list:\n",
        "  count=count+1\n",
        "print(count)\n"
      ]
    },
    {
      "cell_type": "code",
      "execution_count": null,
      "metadata": {
        "colab": {
          "base_uri": "https://localhost:8080/"
        },
        "id": "XXD4dHlaHvBv",
        "outputId": "4ddcd23f-da7f-43c9-f3d5-9aeb98553a24"
      },
      "outputs": [
        {
          "name": "stdout",
          "output_type": "stream",
          "text": [
            "['message', 'for', 'officials', 'the', 'ghjkl', 'which', 'odd', 'index', 'a', 'given', 'string.']\n"
          ]
        }
      ],
      "source": [
        "#Write a Python program to decode a message for security officials by removing the characters which have odd index values of a given string.\"\n",
        "string='message sjjj for gfsd security ertyui officials qwerty by uiop removing asdf the ghjkl characters zxcv which bnmz have qwer odd hgfdsa index values of a given string.'\n",
        "even=[]\n",
        "odd=[]\n",
        "for i in string.split():\n",
        "  if len(i)%2==0:\n",
        "    even.append(i)\n",
        "  else:\n",
        "    odd.append(i)\n",
        "print(odd)"
      ]
    },
    {
      "cell_type": "code",
      "execution_count": null,
      "metadata": {
        "colab": {
          "base_uri": "https://localhost:8080/"
        },
        "id": "JNSeRmxbkxN-",
        "outputId": "87ab4cd1-9c59-43d4-a157-58567cd1d1bd"
      },
      "outputs": [
        {
          "name": "stdout",
          "output_type": "stream",
          "text": [
            "<class 'str'>\n",
            "<class 'int'>\n",
            "<class 'float'>\n",
            "<class 'str'>\n",
            "<class 'bool'>\n"
          ]
        }
      ],
      "source": [
        "#Amy is asked to write down the data types of all elements in a list.\n",
        "#Help Amy to write a Python program that prints each item and its corresponding type from the given list.\n",
        "list=['123',123,1.23,'false',True]\n",
        "for i in list:\n",
        "  a=type(i)\n",
        "  print(a)"
      ]
    },
    {
      "cell_type": "code",
      "execution_count": null,
      "metadata": {
        "colab": {
          "base_uri": "https://localhost:8080/"
        },
        "id": "xevNzdMrOUmc",
        "outputId": "35775732-ce36-4d35-ea62-ee4353a880fe"
      },
      "outputs": [
        {
          "name": "stdout",
          "output_type": "stream",
          "text": [
            "P:is consonent\n",
            "y:is consonent\n",
            "t:is consonent\n",
            "h:is consonent\n",
            "o: is vovle\n",
            "n:is consonent\n",
            "p:is consonent\n",
            "r:is consonent\n",
            "o: is vovle\n",
            "g:is consonent\n",
            "r:is consonent\n",
            "a: is vovle\n",
            "m:is consonent\n",
            "t:is consonent\n",
            "o: is vovle\n",
            "c:is consonent\n",
            "h:is consonent\n",
            "e: is vovle\n",
            "c:is consonent\n",
            "k:is consonent\n",
            "w:is consonent\n",
            "h:is consonent\n",
            "e: is vovle\n",
            "t:is consonent\n",
            "h:is consonent\n",
            "e: is vovle\n",
            "r:is consonent\n",
            "a: is vovle\n",
            "n:is consonent\n",
            "a: is vovle\n",
            "l:is consonent\n",
            "p:is consonent\n",
            "h:is consonent\n",
            "a: is vovle\n",
            "b:is consonent\n",
            "e: is vovle\n",
            "t:is consonent\n",
            "i: is vovle\n",
            "s:is consonent\n",
            "a: is vovle\n",
            "v:is consonent\n",
            "o: is vovle\n",
            "w:is consonent\n",
            "e: is vovle\n",
            "l:is consonent\n",
            "o: is vovle\n",
            "r:is consonent\n",
            "c:is consonent\n",
            "o: is vovle\n",
            "n:is consonent\n",
            "s:is consonent\n",
            "o: is vovle\n",
            "n:is consonent\n",
            "a: is vovle\n",
            "n:is consonent\n",
            "t:is consonent\n"
          ]
        }
      ],
      "source": [
        "#Write a Python program to check whether an alphabet is a vowel or consonant\n",
        "string='Pythonprogramtocheckwhetheranalphabetisavowelorconsonant'\n",
        "vovel=['a','e','i','o','u','A','E','I','O','U']\n",
        "\n",
        "for i in string:\n",
        "  if i in vovel:\n",
        "    print(f'{i}: is vovle')\n",
        "  else:\n",
        "    print(f'{i}:is consonent')\n",
        "\n"
      ]
    },
    {
      "cell_type": "code",
      "execution_count": null,
      "metadata": {
        "colab": {
          "base_uri": "https://localhost:8080/"
        },
        "id": "jdO2mTDOSFNv",
        "outputId": "3b534cc3-7ac7-463f-d5f3-896adf9c2861"
      },
      "outputs": [
        {
          "name": "stdout",
          "output_type": "stream",
          "text": [
            "Number 114\n",
            "Number 22\n",
            "15\n"
          ]
        }
      ],
      "source": [
        "#Write a Python program to find sum of two given integers. However, if the sum is between 15 to 20 it will return 20\n",
        "sum1=int(input('Number 1'))\n",
        "sum2=int(input('Number 2'))\n",
        "\n",
        "sum=sum1+sum2\n",
        "if sum>15 and sum<20:\n",
        "  print('15')\n",
        "else:\n",
        "  print(sum)"
      ]
    },
    {
      "cell_type": "code",
      "execution_count": null,
      "metadata": {
        "colab": {
          "base_uri": "https://localhost:8080/"
        },
        "id": "kcc4WgLoT5z4",
        "outputId": "aadf418c-939f-44e1-d241-a5a87c5b4273"
      },
      "outputs": [
        {
          "name": "stdout",
          "output_type": "stream",
          "text": [
            "9\n"
          ]
        }
      ],
      "source": [
        "#Write a Python program to find the length of a set\n",
        "set={'Python','program','to','find','the','length','of','a','set'}\n",
        "\n",
        "count=0\n",
        "for i in set:\n",
        "  count=count+1\n",
        "print(count)"
      ]
    },
    {
      "cell_type": "code",
      "execution_count": null,
      "metadata": {
        "colab": {
          "base_uri": "https://localhost:8080/"
        },
        "id": "rIQbVI1IT7zX",
        "outputId": "c69f75f2-ac74-418e-ee53-42f637e45a33"
      },
      "outputs": [
        {
          "name": "stdout",
          "output_type": "stream",
          "text": [
            "Number 1-20\n",
            "Number 210\n",
            "not for more than or equal to zero\n"
          ]
        }
      ],
      "source": [
        "#Write a Python program to compute and print sum of two given integers (more than or equal to zero).\n",
        "#If given integers or the sum have more than 80 digits, print \"overflow\".\n",
        "sum1=int(input('Number 1'))\n",
        "sum2=int(input('Number 2'))\n",
        "\n",
        "sum=sum1+sum2\n",
        "if sum>=0 and sum<=80:\n",
        "  print(sum)\n",
        "elif sum>80:\n",
        "  print('overflow')\n",
        "else:\n",
        "  print('not for more than or equal to zero')\n",
        "\n"
      ]
    },
    {
      "cell_type": "code",
      "execution_count": null,
      "metadata": {
        "colab": {
          "base_uri": "https://localhost:8080/"
        },
        "id": "NeyUqEqgXIED",
        "outputId": "6563d3fa-b27f-44bd-ae57-c891e0f41031"
      },
      "outputs": [
        {
          "name": "stdout",
          "output_type": "stream",
          "text": [
            "height:5\n",
            "base:7\n",
            "area of triangle=17.5\n"
          ]
        }
      ],
      "source": [
        "#Write a Python program that will accept the base and height of a triangle and compute the area.\n",
        "h=int(input('height:'))\n",
        "b=int(input('base:'))\n",
        "area=(1/2)*b*h\n",
        "print(f'area of triangle={area}')"
      ]
    },
    {
      "cell_type": "code",
      "execution_count": null,
      "metadata": {
        "id": "j-3bUxdi69Kl"
      },
      "outputs": [],
      "source": []
    },
    {
      "cell_type": "code",
      "execution_count": null,
      "metadata": {
        "colab": {
          "base_uri": "https://localhost:8080/"
        },
        "id": "8XfQM7fVORNP",
        "outputId": "baee308b-4bcb-4283-b233-d2ac33fc714f"
      },
      "outputs": [
        {
          "name": "stdout",
          "output_type": "stream",
          "text": [
            "105\n"
          ]
        }
      ],
      "source": [
        "#Write a Python program to find the highest 3 values of corresponding keys in a dictionary\"\n",
        "#Write a Python program to get the smallest number from a list.\n",
        "dict={'a':100,'b':105,'c':103,'d':101,'e':102,'f':1234}\n",
        "k=dict.values()\n",
        "l=list(dict.values())\n",
        "s=l[0]\n",
        "for i in l:\n",
        "  if i>s and i<=999:\n",
        "    s=i\n",
        "print(s)\n",
        "  #this py code if cuttropted output is 105"
      ]
    },
    {
      "cell_type": "code",
      "execution_count": null,
      "metadata": {
        "colab": {
          "base_uri": "https://localhost:8080/"
        },
        "id": "hLYXU7Hl7P9F",
        "outputId": "4bc57583-44b9-43f7-a697-d91205e44896"
      },
      "outputs": [
        {
          "data": {
            "text/plain": [
              "{'a', 'casf', 'errw', 'qwrd', 'sdgb', 'wrgtf'}"
            ]
          },
          "execution_count": 12,
          "metadata": {},
          "output_type": "execute_result"
        }
      ],
      "source": [
        "#Write a Python program to sort a list alphabetically in a dictionary\n",
        "dict={'a':100,'sdgb':105,'casf':103,'qwrd':101,'errw':102,'wrgtf':1234}\n",
        "dict.values()\n",
        "set(dict.keys())"
      ]
    },
    {
      "cell_type": "code",
      "execution_count": null,
      "metadata": {
        "colab": {
          "base_uri": "https://localhost:8080/"
        },
        "id": "PEmnq2GYBvff",
        "outputId": "b0ed660b-1117-4313-ed83-c43187f31c22"
      },
      "outputs": [
        {
          "name": "stdout",
          "output_type": "stream",
          "text": [
            "6\n"
          ]
        }
      ],
      "source": [
        "#Write a Python program to count the number of items in a dictionary value that is a list\n",
        "dict={'a':100,'sdgb':105,'casf':103,'qwrd':101,'errw':102,'wrgtf':1234}\n",
        "dict.values()\n",
        "k=list(dict.keys())\n",
        "count=0\n",
        "for i in k:\n",
        "  count=count+1\n",
        "print(count)\n",
        "#this py code if cuttropted output is 6"
      ]
    },
    {
      "cell_type": "code",
      "execution_count": null,
      "metadata": {
        "colab": {
          "base_uri": "https://localhost:8080/",
          "height": 252
        },
        "id": "Fx19cOZrDKCS",
        "outputId": "8dfab2b5-8304-45a0-c8f8-96d5f92bbd2b"
      },
      "outputs": [
        {
          "name": "stdout",
          "output_type": "stream",
          "text": [
            "input to check the dict123\n"
          ]
        },
        {
          "ename": "TypeError",
          "evalue": "ignored",
          "output_type": "error",
          "traceback": [
            "\u001b[0;31m---------------------------------------------------------------------------\u001b[0m",
            "\u001b[0;31mTypeError\u001b[0m                                 Traceback (most recent call last)",
            "\u001b[0;32m<ipython-input-5-f61c3b567ed1>\u001b[0m in \u001b[0;36m<cell line: 5>\u001b[0;34m()\u001b[0m\n\u001b[1;32m      3\u001b[0m \u001b[0minp\u001b[0m\u001b[0;34m=\u001b[0m\u001b[0mint\u001b[0m\u001b[0;34m(\u001b[0m\u001b[0minput\u001b[0m\u001b[0;34m(\u001b[0m\u001b[0;34m'input to check the dict'\u001b[0m\u001b[0;34m)\u001b[0m\u001b[0;34m)\u001b[0m\u001b[0;34m\u001b[0m\u001b[0;34m\u001b[0m\u001b[0m\n\u001b[1;32m      4\u001b[0m \u001b[0mdict\u001b[0m\u001b[0;34m.\u001b[0m\u001b[0mvalues\u001b[0m\u001b[0;34m(\u001b[0m\u001b[0;34m)\u001b[0m\u001b[0;34m\u001b[0m\u001b[0;34m\u001b[0m\u001b[0m\n\u001b[0;32m----> 5\u001b[0;31m \u001b[0mk\u001b[0m\u001b[0;34m=\u001b[0m\u001b[0mlist\u001b[0m\u001b[0;34m(\u001b[0m\u001b[0mdict\u001b[0m\u001b[0;34m.\u001b[0m\u001b[0mvalues\u001b[0m\u001b[0;34m(\u001b[0m\u001b[0;34m)\u001b[0m\u001b[0;34m)\u001b[0m\u001b[0;34m\u001b[0m\u001b[0;34m\u001b[0m\u001b[0m\n\u001b[0m\u001b[1;32m      6\u001b[0m \u001b[0mele\u001b[0m\u001b[0;34m=\u001b[0m\u001b[0mk\u001b[0m\u001b[0;34m[\u001b[0m\u001b[0;36m0\u001b[0m\u001b[0;34m]\u001b[0m\u001b[0;34m\u001b[0m\u001b[0;34m\u001b[0m\u001b[0m\n\u001b[1;32m      7\u001b[0m \u001b[0;34m\u001b[0m\u001b[0m\n",
            "\u001b[0;31mTypeError\u001b[0m: 'list' object is not callable"
          ]
        }
      ],
      "source": [
        "#Write a Python script to check whether a given key already exists in a dictionary.\n",
        "dict={'a':100,'sdgb':105,'casf':103,'qwrd':101,'errw':102,'wrgtf':1234}\n",
        "inp=int(input('input to check the dict'))\n",
        "dict.values()\n",
        "k=list(dict.values())\n",
        "ele=k[0]\n",
        "\n",
        "if inp==ele:\n",
        "  print('already exixted')\n",
        "elif inp!=ele:\n",
        "  print('not alr exixted')\n",
        "#this py code if cuttropted output based on input"
      ]
    },
    {
      "cell_type": "code",
      "execution_count": null,
      "metadata": {
        "colab": {
          "base_uri": "https://localhost:8080/"
        },
        "id": "3Bpvq5qPHKn5",
        "outputId": "c72e635b-fc98-4f84-ac39-e9644c4b23c8"
      },
      "outputs": [
        {
          "name": "stdout",
          "output_type": "stream",
          "text": [
            "a\n",
            "sdgb\n",
            "casf\n",
            "qwrd\n",
            "errw\n",
            "wrgtf\n",
            "100\n",
            "105\n",
            "103\n",
            "101\n",
            "102\n",
            "1234\n"
          ]
        }
      ],
      "source": [
        "# Write a Python program to iterate over dictionaries using for loops.\"\"\"\n",
        "dict={'a':100,'sdgb':105,'casf':103,'qwrd':101,'errw':102,'wrgtf':1234}\n",
        "for i in dict.keys():\n",
        "  print(i)\n",
        "for j in dict.values():\n",
        "  print(j)"
      ]
    },
    {
      "cell_type": "code",
      "execution_count": null,
      "metadata": {
        "colab": {
          "base_uri": "https://localhost:8080/"
        },
        "id": "8cbKxx_SNGN5",
        "outputId": "54ec35f6-fd1b-46c7-e126-62425038c10a"
      },
      "outputs": [
        {
          "name": "stdout",
          "output_type": "stream",
          "text": [
            "5\n"
          ]
        }
      ],
      "source": [
        "num='12'\n",
        "sum=0\n",
        "pow=len(num)\n",
        "for i in num:\n",
        "\n",
        "  sum=sum+int(i)**pow\n",
        "\n",
        "print(sum)"
      ]
    },
    {
      "cell_type": "code",
      "execution_count": null,
      "metadata": {
        "colab": {
          "base_uri": "https://localhost:8080/"
        },
        "id": "tw7YF2rDPE23",
        "outputId": "ec2a312c-75ee-4c49-d401-f4fcdbeb559d"
      },
      "outputs": [
        {
          "name": "stdout",
          "output_type": "stream",
          "text": [
            "28\n",
            "28\n",
            "perfect num\n"
          ]
        }
      ],
      "source": [
        "num=int(input())\n",
        "sum=0\n",
        "for i in range(1,num):\n",
        "  if int(num)%i==0:\n",
        "    sum=sum+i\n",
        "print(sum)\n",
        "if num==sum:\n",
        "  print('perfect num')\n",
        "else:\n",
        "  print('not')\n"
      ]
    },
    {
      "cell_type": "code",
      "execution_count": null,
      "metadata": {
        "colab": {
          "base_uri": "https://localhost:8080/"
        },
        "id": "b23bYpRNSF9B",
        "outputId": "9281e33d-613e-4341-b7f2-44f7fb688bb1"
      },
      "outputs": [
        {
          "name": "stdout",
          "output_type": "stream",
          "text": [
            "120\n"
          ]
        }
      ],
      "source": [
        "num=5\n",
        "fact=1\n",
        "while num>0:\n",
        "\n",
        "  fact=fact*num\n",
        "  num=num-1\n",
        "print(fact)\n",
        "\n"
      ]
    },
    {
      "cell_type": "code",
      "execution_count": null,
      "metadata": {
        "colab": {
          "base_uri": "https://localhost:8080/"
        },
        "id": "MHR3sJ4jV9nv",
        "outputId": "09018c3e-1fe3-4574-9946-530671d9faae"
      },
      "outputs": [
        {
          "name": "stdout",
          "output_type": "stream",
          "text": [
            "10\n"
          ]
        }
      ],
      "source": [
        "num1=20\n",
        "num2=30\n",
        "if num1>num2:\n",
        "  num1,num2=num2,num1\n",
        "for i in range(1,num1+1):\n",
        "  if num1%i==0 and num2%i==0:\n",
        "    hcf=i\n",
        "print(hcf)"
      ]
    },
    {
      "cell_type": "code",
      "execution_count": null,
      "metadata": {
        "id": "Fd5InGCVbYA2"
      },
      "outputs": [],
      "source": [
        "from typing_extensions import AsyncGenerator\n",
        "#def function\n",
        "#def function use mul times\n",
        "def fun(age1,age2,arg3):\n",
        "  #condition\n",
        "  return value\n"
      ]
    },
    {
      "cell_type": "code",
      "execution_count": null,
      "metadata": {
        "colab": {
          "base_uri": "https://localhost:8080/"
        },
        "id": "DxIQl10efOW7",
        "outputId": "07538ef4-87ab-498f-da17-ba2c2d2d3239"
      },
      "outputs": [
        {
          "name": "stdout",
          "output_type": "stream",
          "text": [
            "[2, 4, 6]\n"
          ]
        }
      ],
      "source": [
        "def even(list1):\n",
        "  even_num=[]\n",
        "  for i in list1:\n",
        "    if i%2==0:\n",
        "      even_num.append(i)\n",
        "      return even_num\n",
        "list1=[1,2,3,4,5,6,7]\n",
        "print(even(list1))\n"
      ]
    },
    {
      "cell_type": "code",
      "execution_count": null,
      "metadata": {
        "colab": {
          "base_uri": "https://localhost:8080/"
        },
        "id": "7L07LkVMhXOI",
        "outputId": "b65d3ad3-3d0d-400e-c99e-1094f154935f"
      },
      "outputs": [
        {
          "name": "stdout",
          "output_type": "stream",
          "text": [
            "give number7\n",
            "number is not prime\n"
          ]
        }
      ],
      "source": [
        "num=int(input('give number'))\n",
        "count=0\n",
        "i=0\n",
        "for i in range(1,num):\n",
        "    if num%i==0:\n",
        "      count=count+1\n",
        "i=i+1\n",
        "if count==0:\n",
        "  print('number is prime')\n",
        "else:\n",
        "  print('number is not prime')"
      ]
    },
    {
      "cell_type": "markdown",
      "metadata": {
        "id": "wOTAcBFjoif0"
      },
      "source": [
        "num=int(input())\n",
        "\n",
        "*   List item\n",
        "\n",
        "*   List item\n",
        "\n",
        "*   List item\n",
        "*   List item\n",
        "\n",
        "\n",
        "*   List item\n",
        "\n",
        "\n",
        "*   List item\n",
        "\n",
        "\n",
        "i=2\n",
        "count=0\n",
        "while i<num:\n",
        "  if num%i==0:\n",
        "    count=count+1\n",
        "  i=i+1\n",
        "if count==0:\n",
        "  print('number is prime')\n",
        "else:\n",
        "  print('number is not prime')"
      ]
    },
    {
      "cell_type": "code",
      "execution_count": null,
      "metadata": {
        "colab": {
          "background_save": true
        },
        "id": "kwZr8zsgXk5J",
        "outputId": "85cf2381-f87f-4f02-d493-0227ffb880d9"
      },
      "outputs": [
        {
          "ename": "KeyboardInterrupt",
          "evalue": "ignored",
          "output_type": "error",
          "traceback": [
            "\u001b[0;31m---------------------------------------------------------------------------\u001b[0m",
            "\u001b[0;31mKeyboardInterrupt\u001b[0m                         Traceback (most recent call last)",
            "\u001b[0;32m<ipython-input-1-b30bffc9043c>\u001b[0m in \u001b[0;36m<cell line: 1>\u001b[0;34m()\u001b[0m\n\u001b[0;32m----> 1\u001b[0;31m \u001b[0mnum\u001b[0m\u001b[0;34m=\u001b[0m\u001b[0minput\u001b[0m\u001b[0;34m(\u001b[0m\u001b[0;34m)\u001b[0m\u001b[0;34m\u001b[0m\u001b[0;34m\u001b[0m\u001b[0m\n\u001b[0m\u001b[1;32m      2\u001b[0m \u001b[0mL\u001b[0m\u001b[0;34m=\u001b[0m\u001b[0mlist\u001b[0m\u001b[0;34m(\u001b[0m\u001b[0mnum\u001b[0m\u001b[0;34m)\u001b[0m\u001b[0;34m\u001b[0m\u001b[0;34m\u001b[0m\u001b[0m\n\u001b[1;32m      3\u001b[0m \u001b[0mprint\u001b[0m\u001b[0;34m(\u001b[0m\u001b[0mL\u001b[0m\u001b[0;34m)\u001b[0m\u001b[0;34m\u001b[0m\u001b[0;34m\u001b[0m\u001b[0m\n",
            "\u001b[0;32m/usr/local/lib/python3.10/dist-packages/ipykernel/kernelbase.py\u001b[0m in \u001b[0;36mraw_input\u001b[0;34m(self, prompt)\u001b[0m\n\u001b[1;32m    849\u001b[0m                 \u001b[0;34m\"raw_input was called, but this frontend does not support input requests.\"\u001b[0m\u001b[0;34m\u001b[0m\u001b[0;34m\u001b[0m\u001b[0m\n\u001b[1;32m    850\u001b[0m             )\n\u001b[0;32m--> 851\u001b[0;31m         return self._input_request(str(prompt),\n\u001b[0m\u001b[1;32m    852\u001b[0m             \u001b[0mself\u001b[0m\u001b[0;34m.\u001b[0m\u001b[0m_parent_ident\u001b[0m\u001b[0;34m,\u001b[0m\u001b[0;34m\u001b[0m\u001b[0;34m\u001b[0m\u001b[0m\n\u001b[1;32m    853\u001b[0m             \u001b[0mself\u001b[0m\u001b[0;34m.\u001b[0m\u001b[0m_parent_header\u001b[0m\u001b[0;34m,\u001b[0m\u001b[0;34m\u001b[0m\u001b[0;34m\u001b[0m\u001b[0m\n",
            "\u001b[0;32m/usr/local/lib/python3.10/dist-packages/ipykernel/kernelbase.py\u001b[0m in \u001b[0;36m_input_request\u001b[0;34m(self, prompt, ident, parent, password)\u001b[0m\n\u001b[1;32m    893\u001b[0m             \u001b[0;32mexcept\u001b[0m \u001b[0mKeyboardInterrupt\u001b[0m\u001b[0;34m:\u001b[0m\u001b[0;34m\u001b[0m\u001b[0;34m\u001b[0m\u001b[0m\n\u001b[1;32m    894\u001b[0m                 \u001b[0;31m# re-raise KeyboardInterrupt, to truncate traceback\u001b[0m\u001b[0;34m\u001b[0m\u001b[0;34m\u001b[0m\u001b[0m\n\u001b[0;32m--> 895\u001b[0;31m                 \u001b[0;32mraise\u001b[0m \u001b[0mKeyboardInterrupt\u001b[0m\u001b[0;34m(\u001b[0m\u001b[0;34m\"Interrupted by user\"\u001b[0m\u001b[0;34m)\u001b[0m \u001b[0;32mfrom\u001b[0m \u001b[0;32mNone\u001b[0m\u001b[0;34m\u001b[0m\u001b[0;34m\u001b[0m\u001b[0m\n\u001b[0m\u001b[1;32m    896\u001b[0m             \u001b[0;32mexcept\u001b[0m \u001b[0mException\u001b[0m \u001b[0;32mas\u001b[0m \u001b[0me\u001b[0m\u001b[0;34m:\u001b[0m\u001b[0;34m\u001b[0m\u001b[0;34m\u001b[0m\u001b[0m\n\u001b[1;32m    897\u001b[0m                 \u001b[0mself\u001b[0m\u001b[0;34m.\u001b[0m\u001b[0mlog\u001b[0m\u001b[0;34m.\u001b[0m\u001b[0mwarning\u001b[0m\u001b[0;34m(\u001b[0m\u001b[0;34m\"Invalid Message:\"\u001b[0m\u001b[0;34m,\u001b[0m \u001b[0mexc_info\u001b[0m\u001b[0;34m=\u001b[0m\u001b[0;32mTrue\u001b[0m\u001b[0;34m)\u001b[0m\u001b[0;34m\u001b[0m\u001b[0;34m\u001b[0m\u001b[0m\n",
            "\u001b[0;31mKeyboardInterrupt\u001b[0m: Interrupted by user"
          ]
        }
      ],
      "source": [
        "num=input()\n",
        "L=list(num)\n",
        "print(L)"
      ]
    },
    {
      "cell_type": "code",
      "execution_count": null,
      "metadata": {
        "id": "MoZFYnHzXlvu"
      },
      "outputs": [],
      "source": []
    },
    {
      "cell_type": "code",
      "execution_count": null,
      "metadata": {
        "id": "UC6ZeL3HXkDD",
        "colab": {
          "base_uri": "https://localhost:8080/",
          "height": 348
        },
        "outputId": "f3a1bb16-fb82-4e65-9aea-e41efbcd1b79"
      },
      "outputs": [
        {
          "output_type": "error",
          "ename": "TypeError",
          "evalue": "ignored",
          "traceback": [
            "\u001b[0;31m---------------------------------------------------------------------------\u001b[0m",
            "\u001b[0;31mTypeError\u001b[0m                                 Traceback (most recent call last)",
            "\u001b[0;32m<ipython-input-8-e9252f74b4c8>\u001b[0m in \u001b[0;36m<cell line: 9>\u001b[0;34m()\u001b[0m\n\u001b[1;32m      7\u001b[0m   \u001b[0;32mreturn\u001b[0m \u001b[0mmax_num\u001b[0m\u001b[0;34m\u001b[0m\u001b[0;34m\u001b[0m\u001b[0m\n\u001b[1;32m      8\u001b[0m \u001b[0;34m\u001b[0m\u001b[0m\n\u001b[0;32m----> 9\u001b[0;31m \u001b[0mfind_max\u001b[0m\u001b[0;34m(\u001b[0m\u001b[0;36m45\u001b[0m\u001b[0;34m)\u001b[0m\u001b[0;34m\u001b[0m\u001b[0;34m\u001b[0m\u001b[0m\n\u001b[0m",
            "\u001b[0;32m<ipython-input-8-e9252f74b4c8>\u001b[0m in \u001b[0;36mfind_max\u001b[0;34m(nums)\u001b[0m\n\u001b[1;32m      1\u001b[0m \u001b[0;32mdef\u001b[0m \u001b[0mfind_max\u001b[0m\u001b[0;34m(\u001b[0m\u001b[0mnums\u001b[0m\u001b[0;34m)\u001b[0m\u001b[0;34m:\u001b[0m\u001b[0;34m\u001b[0m\u001b[0;34m\u001b[0m\u001b[0m\n\u001b[1;32m      2\u001b[0m   \u001b[0mmax_num\u001b[0m\u001b[0;34m=\u001b[0m\u001b[0mint\u001b[0m\u001b[0;34m(\u001b[0m\u001b[0;36m21\u001b[0m\u001b[0;34m)\u001b[0m\u001b[0;34m\u001b[0m\u001b[0;34m\u001b[0m\u001b[0m\n\u001b[0;32m----> 3\u001b[0;31m   \u001b[0;32mfor\u001b[0m \u001b[0mnum\u001b[0m \u001b[0;32min\u001b[0m \u001b[0mnums\u001b[0m\u001b[0;34m:\u001b[0m\u001b[0;34m\u001b[0m\u001b[0;34m\u001b[0m\u001b[0m\n\u001b[0m\u001b[1;32m      4\u001b[0m     \u001b[0;32mif\u001b[0m \u001b[0mnum\u001b[0m\u001b[0;34m>\u001b[0m\u001b[0mmax_num\u001b[0m\u001b[0;34m:\u001b[0m\u001b[0;34m\u001b[0m\u001b[0;34m\u001b[0m\u001b[0m\n\u001b[1;32m      5\u001b[0m       \u001b[0mmax_num\u001b[0m\u001b[0;34m=\u001b[0m\u001b[0mnum\u001b[0m\u001b[0;34m\u001b[0m\u001b[0;34m\u001b[0m\u001b[0m\n",
            "\u001b[0;31mTypeError\u001b[0m: 'int' object is not iterable"
          ]
        }
      ],
      "source": [
        "def find_max(nums):\n",
        "  max_num=int(21)\n",
        "  for num in nums:\n",
        "    if num>max_num:\n",
        "      max_num=num\n",
        "\n",
        "  return max_num\n",
        "\n",
        "find_max(45)"
      ]
    },
    {
      "cell_type": "code",
      "execution_count": 46,
      "metadata": {
        "id": "lyLL4x5QXi29",
        "colab": {
          "base_uri": "https://localhost:8080/"
        },
        "outputId": "ccbcf9cf-35e8-40c9-b07b-5b2d37977a94"
      },
      "outputs": [
        {
          "output_type": "stream",
          "name": "stdout",
          "text": [
            "number371\n",
            "armstrong\n"
          ]
        }
      ],
      "source": [
        "#armstrong\n",
        "def arms(x):\n",
        "  p=len(str(a))\n",
        "  x=0\n",
        "  for i in str(a):\n",
        "    j=int(i)**p\n",
        "    x=x+j\n",
        "  if x==a:\n",
        "    print('armstrong')\n",
        "  else:\n",
        "    print('not arm')\n",
        "\n",
        "a=int(input('number'))\n",
        "arms(a)"
      ]
    },
    {
      "cell_type": "code",
      "execution_count": null,
      "metadata": {
        "id": "qBwAj1EYgCJh"
      },
      "outputs": [],
      "source": []
    }
  ],
  "metadata": {
    "colab": {
      "provenance": [],
      "authorship_tag": "ABX9TyN+JF+8x/5d+uDSGQbkQJgC",
      "include_colab_link": true
    },
    "kernelspec": {
      "display_name": "Python 3",
      "name": "python3"
    },
    "language_info": {
      "name": "python"
    }
  },
  "nbformat": 4,
  "nbformat_minor": 0
}